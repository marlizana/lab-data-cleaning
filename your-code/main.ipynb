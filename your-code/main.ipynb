{
 "cells": [
  {
   "cell_type": "markdown",
   "metadata": {},
   "source": [
    "#### 1. Import pandas library"
   ]
  },
  {
   "cell_type": "code",
   "execution_count": 2,
   "metadata": {
    "ExecuteTime": {
     "end_time": "2020-02-02T08:17:46.799370Z",
     "start_time": "2020-02-02T08:17:44.815522Z"
    }
   },
   "outputs": [],
   "source": [
    "import pandas as pd"
   ]
  },
  {
   "cell_type": "markdown",
   "metadata": {},
   "source": [
    "#### 2. Import BigQuery library\n"
   ]
  },
  {
   "cell_type": "code",
   "execution_count": 3,
   "metadata": {
    "ExecuteTime": {
     "end_time": "2020-02-02T08:17:53.718961Z",
     "start_time": "2020-02-02T08:17:50.727332Z"
    }
   },
   "outputs": [],
   "source": [
    "import os\n",
    "from google.cloud import bigquery"
   ]
  },
  {
   "cell_type": "markdown",
   "metadata": {},
   "source": [
    "#### 3. Create a connection to BigQuery"
   ]
  },
  {
   "cell_type": "code",
   "execution_count": 4,
   "metadata": {
    "ExecuteTime": {
     "end_time": "2020-02-02T08:17:54.282779Z",
     "start_time": "2020-02-02T08:17:54.269957Z"
    }
   },
   "outputs": [],
   "source": [
    "os.environ[\"GOOGLE_APPLICATION_CREDENTIALS\"]=\"/Users/MarLizana/Desktop/IH/ironhack_service_account_big_query.json\"\n",
    "client = bigquery.Client()"
   ]
  },
  {
   "cell_type": "markdown",
   "metadata": {},
   "source": [
    "#### 4. Import data from the users table from the stackoverflow public database for United Kingdom only"
   ]
  },
  {
   "cell_type": "code",
   "execution_count": 5,
   "metadata": {
    "ExecuteTime": {
     "end_time": "2020-02-02T08:18:23.375595Z",
     "start_time": "2020-02-02T08:17:55.295529Z"
    }
   },
   "outputs": [
    {
     "data": {
      "text/html": [
       "<div>\n",
       "<style scoped>\n",
       "    .dataframe tbody tr th:only-of-type {\n",
       "        vertical-align: middle;\n",
       "    }\n",
       "\n",
       "    .dataframe tbody tr th {\n",
       "        vertical-align: top;\n",
       "    }\n",
       "\n",
       "    .dataframe thead th {\n",
       "        text-align: right;\n",
       "    }\n",
       "</style>\n",
       "<table border=\"1\" class=\"dataframe\">\n",
       "  <thead>\n",
       "    <tr style=\"text-align: right;\">\n",
       "      <th></th>\n",
       "      <th>id</th>\n",
       "      <th>display_name</th>\n",
       "      <th>about_me</th>\n",
       "      <th>age</th>\n",
       "      <th>creation_date</th>\n",
       "      <th>last_access_date</th>\n",
       "      <th>location</th>\n",
       "      <th>reputation</th>\n",
       "      <th>up_votes</th>\n",
       "      <th>down_votes</th>\n",
       "      <th>views</th>\n",
       "      <th>profile_image_url</th>\n",
       "      <th>website_url</th>\n",
       "    </tr>\n",
       "  </thead>\n",
       "  <tbody>\n",
       "    <tr>\n",
       "      <td>0</td>\n",
       "      <td>1074</td>\n",
       "      <td>Javache</td>\n",
       "      <td>&lt;p&gt;Hi.&lt;/p&gt;\\n\\n&lt;p&gt;I'm an iOS engineer at Facebo...</td>\n",
       "      <td>None</td>\n",
       "      <td>2008-08-12 10:11:09.847000+00:00</td>\n",
       "      <td>2019-10-21 15:17:18.803000+00:00</td>\n",
       "      <td>London, United Kingdom</td>\n",
       "      <td>3107</td>\n",
       "      <td>158</td>\n",
       "      <td>21</td>\n",
       "      <td>266</td>\n",
       "      <td>None</td>\n",
       "      <td>http://thinkjavache.be/blog</td>\n",
       "    </tr>\n",
       "    <tr>\n",
       "      <td>1</td>\n",
       "      <td>1077</td>\n",
       "      <td>smh</td>\n",
       "      <td>&lt;p&gt;\\nEmbedded software engineer.&lt;/p&gt;</td>\n",
       "      <td>None</td>\n",
       "      <td>2008-08-12 10:34:56.447000+00:00</td>\n",
       "      <td>2019-09-07 17:19:22.130000+00:00</td>\n",
       "      <td>Southampton, United Kingdom</td>\n",
       "      <td>1075</td>\n",
       "      <td>148</td>\n",
       "      <td>4</td>\n",
       "      <td>69</td>\n",
       "      <td>None</td>\n",
       "      <td>http://www.bevois.com</td>\n",
       "    </tr>\n",
       "    <tr>\n",
       "      <td>2</td>\n",
       "      <td>4397</td>\n",
       "      <td>andygeers</td>\n",
       "      <td>None</td>\n",
       "      <td>None</td>\n",
       "      <td>2008-09-03 13:48:30.233000+00:00</td>\n",
       "      <td>2019-11-29 12:40:30.020000+00:00</td>\n",
       "      <td>London, United Kingdom</td>\n",
       "      <td>6057</td>\n",
       "      <td>511</td>\n",
       "      <td>12</td>\n",
       "      <td>593</td>\n",
       "      <td>None</td>\n",
       "      <td>http://www.geero.net/</td>\n",
       "    </tr>\n",
       "    <tr>\n",
       "      <td>3</td>\n",
       "      <td>5337</td>\n",
       "      <td>J Hunt</td>\n",
       "      <td>&lt;p&gt;&lt;/p&gt;</td>\n",
       "      <td>None</td>\n",
       "      <td>2008-09-09 09:07:41.840000+00:00</td>\n",
       "      <td>2015-02-19 16:29:45.007000+00:00</td>\n",
       "      <td>United Kingdom</td>\n",
       "      <td>602</td>\n",
       "      <td>1</td>\n",
       "      <td>0</td>\n",
       "      <td>127</td>\n",
       "      <td>None</td>\n",
       "      <td>None</td>\n",
       "    </tr>\n",
       "    <tr>\n",
       "      <td>4</td>\n",
       "      <td>6910</td>\n",
       "      <td>Jonathan</td>\n",
       "      <td>&lt;ul&gt;&lt;li&gt;Started programming with Visual Basic ...</td>\n",
       "      <td>None</td>\n",
       "      <td>2008-09-15 12:48:35.843000+00:00</td>\n",
       "      <td>2019-11-29 15:15:39.270000+00:00</td>\n",
       "      <td>United Kingdom</td>\n",
       "      <td>21315</td>\n",
       "      <td>897</td>\n",
       "      <td>8</td>\n",
       "      <td>831</td>\n",
       "      <td>https://www.gravatar.com/avatar/592695fec5a951...</td>\n",
       "      <td>http://www.toolan.net</td>\n",
       "    </tr>\n",
       "  </tbody>\n",
       "</table>\n",
       "</div>"
      ],
      "text/plain": [
       "     id display_name                                           about_me   age  \\\n",
       "0  1074      Javache  <p>Hi.</p>\\n\\n<p>I'm an iOS engineer at Facebo...  None   \n",
       "1  1077          smh               <p>\\nEmbedded software engineer.</p>  None   \n",
       "2  4397    andygeers                                               None  None   \n",
       "3  5337       J Hunt                                            <p></p>  None   \n",
       "4  6910     Jonathan  <ul><li>Started programming with Visual Basic ...  None   \n",
       "\n",
       "                     creation_date                 last_access_date  \\\n",
       "0 2008-08-12 10:11:09.847000+00:00 2019-10-21 15:17:18.803000+00:00   \n",
       "1 2008-08-12 10:34:56.447000+00:00 2019-09-07 17:19:22.130000+00:00   \n",
       "2 2008-09-03 13:48:30.233000+00:00 2019-11-29 12:40:30.020000+00:00   \n",
       "3 2008-09-09 09:07:41.840000+00:00 2015-02-19 16:29:45.007000+00:00   \n",
       "4 2008-09-15 12:48:35.843000+00:00 2019-11-29 15:15:39.270000+00:00   \n",
       "\n",
       "                      location  reputation  up_votes  down_votes  views  \\\n",
       "0       London, United Kingdom        3107       158          21    266   \n",
       "1  Southampton, United Kingdom        1075       148           4     69   \n",
       "2       London, United Kingdom        6057       511          12    593   \n",
       "3               United Kingdom         602         1           0    127   \n",
       "4               United Kingdom       21315       897           8    831   \n",
       "\n",
       "                                   profile_image_url  \\\n",
       "0                                               None   \n",
       "1                                               None   \n",
       "2                                               None   \n",
       "3                                               None   \n",
       "4  https://www.gravatar.com/avatar/592695fec5a951...   \n",
       "\n",
       "                   website_url  \n",
       "0  http://thinkjavache.be/blog  \n",
       "1        http://www.bevois.com  \n",
       "2        http://www.geero.net/  \n",
       "3                         None  \n",
       "4        http://www.toolan.net  "
      ]
     },
     "execution_count": 5,
     "metadata": {},
     "output_type": "execute_result"
    }
   ],
   "source": [
    "user_data = \"\"\"\n",
    "SELECT \n",
    "    *\n",
    "FROM \n",
    "    `bigquery-public-data.stackoverflow.users` \n",
    "    \n",
    "WHERE\n",
    "    location LIKE \"%United Kingdom%\"\n",
    "    \n",
    "\"\"\"\n",
    "\n",
    "query_job = client.query(query=user_data)\n",
    "user_data = query_job.to_dataframe()\n",
    "user_data.head()"
   ]
  },
  {
   "cell_type": "markdown",
   "metadata": {},
   "source": [
    "#### 5. Rename id column to user_id"
   ]
  },
  {
   "cell_type": "code",
   "execution_count": 6,
   "metadata": {
    "ExecuteTime": {
     "end_time": "2020-02-02T08:18:23.708921Z",
     "start_time": "2020-02-02T08:18:23.443391Z"
    }
   },
   "outputs": [
    {
     "data": {
      "text/html": [
       "<div>\n",
       "<style scoped>\n",
       "    .dataframe tbody tr th:only-of-type {\n",
       "        vertical-align: middle;\n",
       "    }\n",
       "\n",
       "    .dataframe tbody tr th {\n",
       "        vertical-align: top;\n",
       "    }\n",
       "\n",
       "    .dataframe thead th {\n",
       "        text-align: right;\n",
       "    }\n",
       "</style>\n",
       "<table border=\"1\" class=\"dataframe\">\n",
       "  <thead>\n",
       "    <tr style=\"text-align: right;\">\n",
       "      <th></th>\n",
       "      <th>user_id</th>\n",
       "      <th>display_name</th>\n",
       "      <th>about_me</th>\n",
       "      <th>age</th>\n",
       "      <th>creation_date</th>\n",
       "      <th>last_access_date</th>\n",
       "      <th>location</th>\n",
       "      <th>reputation</th>\n",
       "      <th>up_votes</th>\n",
       "      <th>down_votes</th>\n",
       "      <th>views</th>\n",
       "      <th>profile_image_url</th>\n",
       "      <th>website_url</th>\n",
       "    </tr>\n",
       "  </thead>\n",
       "  <tbody>\n",
       "    <tr>\n",
       "      <td>0</td>\n",
       "      <td>1074</td>\n",
       "      <td>Javache</td>\n",
       "      <td>&lt;p&gt;Hi.&lt;/p&gt;\\n\\n&lt;p&gt;I'm an iOS engineer at Facebo...</td>\n",
       "      <td>None</td>\n",
       "      <td>2008-08-12 10:11:09.847000+00:00</td>\n",
       "      <td>2019-10-21 15:17:18.803000+00:00</td>\n",
       "      <td>London, United Kingdom</td>\n",
       "      <td>3107</td>\n",
       "      <td>158</td>\n",
       "      <td>21</td>\n",
       "      <td>266</td>\n",
       "      <td>None</td>\n",
       "      <td>http://thinkjavache.be/blog</td>\n",
       "    </tr>\n",
       "    <tr>\n",
       "      <td>1</td>\n",
       "      <td>1077</td>\n",
       "      <td>smh</td>\n",
       "      <td>&lt;p&gt;\\nEmbedded software engineer.&lt;/p&gt;</td>\n",
       "      <td>None</td>\n",
       "      <td>2008-08-12 10:34:56.447000+00:00</td>\n",
       "      <td>2019-09-07 17:19:22.130000+00:00</td>\n",
       "      <td>Southampton, United Kingdom</td>\n",
       "      <td>1075</td>\n",
       "      <td>148</td>\n",
       "      <td>4</td>\n",
       "      <td>69</td>\n",
       "      <td>None</td>\n",
       "      <td>http://www.bevois.com</td>\n",
       "    </tr>\n",
       "    <tr>\n",
       "      <td>2</td>\n",
       "      <td>4397</td>\n",
       "      <td>andygeers</td>\n",
       "      <td>None</td>\n",
       "      <td>None</td>\n",
       "      <td>2008-09-03 13:48:30.233000+00:00</td>\n",
       "      <td>2019-11-29 12:40:30.020000+00:00</td>\n",
       "      <td>London, United Kingdom</td>\n",
       "      <td>6057</td>\n",
       "      <td>511</td>\n",
       "      <td>12</td>\n",
       "      <td>593</td>\n",
       "      <td>None</td>\n",
       "      <td>http://www.geero.net/</td>\n",
       "    </tr>\n",
       "    <tr>\n",
       "      <td>3</td>\n",
       "      <td>5337</td>\n",
       "      <td>J Hunt</td>\n",
       "      <td>&lt;p&gt;&lt;/p&gt;</td>\n",
       "      <td>None</td>\n",
       "      <td>2008-09-09 09:07:41.840000+00:00</td>\n",
       "      <td>2015-02-19 16:29:45.007000+00:00</td>\n",
       "      <td>United Kingdom</td>\n",
       "      <td>602</td>\n",
       "      <td>1</td>\n",
       "      <td>0</td>\n",
       "      <td>127</td>\n",
       "      <td>None</td>\n",
       "      <td>None</td>\n",
       "    </tr>\n",
       "    <tr>\n",
       "      <td>4</td>\n",
       "      <td>6910</td>\n",
       "      <td>Jonathan</td>\n",
       "      <td>&lt;ul&gt;&lt;li&gt;Started programming with Visual Basic ...</td>\n",
       "      <td>None</td>\n",
       "      <td>2008-09-15 12:48:35.843000+00:00</td>\n",
       "      <td>2019-11-29 15:15:39.270000+00:00</td>\n",
       "      <td>United Kingdom</td>\n",
       "      <td>21315</td>\n",
       "      <td>897</td>\n",
       "      <td>8</td>\n",
       "      <td>831</td>\n",
       "      <td>https://www.gravatar.com/avatar/592695fec5a951...</td>\n",
       "      <td>http://www.toolan.net</td>\n",
       "    </tr>\n",
       "  </tbody>\n",
       "</table>\n",
       "</div>"
      ],
      "text/plain": [
       "   user_id display_name                                           about_me  \\\n",
       "0     1074      Javache  <p>Hi.</p>\\n\\n<p>I'm an iOS engineer at Facebo...   \n",
       "1     1077          smh               <p>\\nEmbedded software engineer.</p>   \n",
       "2     4397    andygeers                                               None   \n",
       "3     5337       J Hunt                                            <p></p>   \n",
       "4     6910     Jonathan  <ul><li>Started programming with Visual Basic ...   \n",
       "\n",
       "    age                    creation_date                 last_access_date  \\\n",
       "0  None 2008-08-12 10:11:09.847000+00:00 2019-10-21 15:17:18.803000+00:00   \n",
       "1  None 2008-08-12 10:34:56.447000+00:00 2019-09-07 17:19:22.130000+00:00   \n",
       "2  None 2008-09-03 13:48:30.233000+00:00 2019-11-29 12:40:30.020000+00:00   \n",
       "3  None 2008-09-09 09:07:41.840000+00:00 2015-02-19 16:29:45.007000+00:00   \n",
       "4  None 2008-09-15 12:48:35.843000+00:00 2019-11-29 15:15:39.270000+00:00   \n",
       "\n",
       "                      location  reputation  up_votes  down_votes  views  \\\n",
       "0       London, United Kingdom        3107       158          21    266   \n",
       "1  Southampton, United Kingdom        1075       148           4     69   \n",
       "2       London, United Kingdom        6057       511          12    593   \n",
       "3               United Kingdom         602         1           0    127   \n",
       "4               United Kingdom       21315       897           8    831   \n",
       "\n",
       "                                   profile_image_url  \\\n",
       "0                                               None   \n",
       "1                                               None   \n",
       "2                                               None   \n",
       "3                                               None   \n",
       "4  https://www.gravatar.com/avatar/592695fec5a951...   \n",
       "\n",
       "                   website_url  \n",
       "0  http://thinkjavache.be/blog  \n",
       "1        http://www.bevois.com  \n",
       "2        http://www.geero.net/  \n",
       "3                         None  \n",
       "4        http://www.toolan.net  "
      ]
     },
     "execution_count": 6,
     "metadata": {},
     "output_type": "execute_result"
    }
   ],
   "source": [
    "user_data = user_data.rename(columns={'id':'user_id'})\n",
    "user_data.head()"
   ]
  },
  {
   "cell_type": "markdown",
   "metadata": {},
   "source": [
    "#### 6. Import from the stackoverflow_posts table all items which have up to 20 view counts and only select 'id', 'owner_user_id', 'score', 'view_count', 'comment_count', 'favorite_count'"
   ]
  },
  {
   "cell_type": "code",
   "execution_count": 7,
   "metadata": {
    "ExecuteTime": {
     "end_time": "2020-02-02T08:18:23.908567Z",
     "start_time": "2020-02-02T08:18:23.901300Z"
    }
   },
   "outputs": [],
   "source": [
    "post_data = \"\"\"\n",
    "SELECT \n",
    "    id,\n",
    "    owner_user_id,\n",
    "    score,\n",
    "    view_count,\n",
    "    comment_count,\n",
    "    favorite_count\n",
    "    \n",
    "FROM \n",
    "    `bigquery-public-data.stackoverflow.stackoverflow_posts`\n",
    "    \n",
    "WHERE\n",
    "\n",
    "    view_count < 20;\n",
    "    \n",
    "\"\"\""
   ]
  },
  {
   "cell_type": "code",
   "execution_count": 8,
   "metadata": {
    "ExecuteTime": {
     "end_time": "2020-02-02T08:18:24.514206Z",
     "start_time": "2020-02-02T08:18:23.989458Z"
    }
   },
   "outputs": [],
   "source": [
    "query_job = client.query(query=post_data)"
   ]
  },
  {
   "cell_type": "code",
   "execution_count": 9,
   "metadata": {
    "ExecuteTime": {
     "end_time": "2020-02-02T08:18:45.800258Z",
     "start_time": "2020-02-02T08:18:24.577142Z"
    }
   },
   "outputs": [],
   "source": [
    "post_data = query_job.to_dataframe()"
   ]
  },
  {
   "cell_type": "code",
   "execution_count": 10,
   "metadata": {
    "ExecuteTime": {
     "end_time": "2020-02-02T08:18:45.925346Z",
     "start_time": "2020-02-02T08:18:45.904731Z"
    }
   },
   "outputs": [
    {
     "data": {
      "text/html": [
       "<div>\n",
       "<style scoped>\n",
       "    .dataframe tbody tr th:only-of-type {\n",
       "        vertical-align: middle;\n",
       "    }\n",
       "\n",
       "    .dataframe tbody tr th {\n",
       "        vertical-align: top;\n",
       "    }\n",
       "\n",
       "    .dataframe thead th {\n",
       "        text-align: right;\n",
       "    }\n",
       "</style>\n",
       "<table border=\"1\" class=\"dataframe\">\n",
       "  <thead>\n",
       "    <tr style=\"text-align: right;\">\n",
       "      <th></th>\n",
       "      <th>id</th>\n",
       "      <th>owner_user_id</th>\n",
       "      <th>score</th>\n",
       "      <th>view_count</th>\n",
       "      <th>comment_count</th>\n",
       "      <th>favorite_count</th>\n",
       "    </tr>\n",
       "  </thead>\n",
       "  <tbody>\n",
       "    <tr>\n",
       "      <td>0</td>\n",
       "      <td>35865779</td>\n",
       "      <td>NaN</td>\n",
       "      <td>0</td>\n",
       "      <td>15</td>\n",
       "      <td>1</td>\n",
       "      <td>NaN</td>\n",
       "    </tr>\n",
       "    <tr>\n",
       "      <td>1</td>\n",
       "      <td>35501106</td>\n",
       "      <td>NaN</td>\n",
       "      <td>0</td>\n",
       "      <td>16</td>\n",
       "      <td>0</td>\n",
       "      <td>0.0</td>\n",
       "    </tr>\n",
       "    <tr>\n",
       "      <td>2</td>\n",
       "      <td>37129340</td>\n",
       "      <td>1267466.0</td>\n",
       "      <td>0</td>\n",
       "      <td>15</td>\n",
       "      <td>6</td>\n",
       "      <td>NaN</td>\n",
       "    </tr>\n",
       "    <tr>\n",
       "      <td>3</td>\n",
       "      <td>29371904</td>\n",
       "      <td>2209530.0</td>\n",
       "      <td>0</td>\n",
       "      <td>17</td>\n",
       "      <td>2</td>\n",
       "      <td>NaN</td>\n",
       "    </tr>\n",
       "    <tr>\n",
       "      <td>4</td>\n",
       "      <td>36045693</td>\n",
       "      <td>NaN</td>\n",
       "      <td>1</td>\n",
       "      <td>17</td>\n",
       "      <td>0</td>\n",
       "      <td>NaN</td>\n",
       "    </tr>\n",
       "  </tbody>\n",
       "</table>\n",
       "</div>"
      ],
      "text/plain": [
       "         id  owner_user_id  score  view_count  comment_count  favorite_count\n",
       "0  35865779            NaN      0          15              1             NaN\n",
       "1  35501106            NaN      0          16              0             0.0\n",
       "2  37129340      1267466.0      0          15              6             NaN\n",
       "3  29371904      2209530.0      0          17              2             NaN\n",
       "4  36045693            NaN      1          17              0             NaN"
      ]
     },
     "execution_count": 10,
     "metadata": {},
     "output_type": "execute_result"
    }
   ],
   "source": [
    "post_data.head()"
   ]
  },
  {
   "cell_type": "markdown",
   "metadata": {},
   "source": [
    "#### 7. Rename id column to post_id and owner_user_id to user_id"
   ]
  },
  {
   "cell_type": "code",
   "execution_count": 11,
   "metadata": {
    "ExecuteTime": {
     "end_time": "2020-02-02T08:18:46.125541Z",
     "start_time": "2020-02-02T08:18:46.031152Z"
    }
   },
   "outputs": [
    {
     "data": {
      "text/html": [
       "<div>\n",
       "<style scoped>\n",
       "    .dataframe tbody tr th:only-of-type {\n",
       "        vertical-align: middle;\n",
       "    }\n",
       "\n",
       "    .dataframe tbody tr th {\n",
       "        vertical-align: top;\n",
       "    }\n",
       "\n",
       "    .dataframe thead th {\n",
       "        text-align: right;\n",
       "    }\n",
       "</style>\n",
       "<table border=\"1\" class=\"dataframe\">\n",
       "  <thead>\n",
       "    <tr style=\"text-align: right;\">\n",
       "      <th></th>\n",
       "      <th>post_id</th>\n",
       "      <th>user_id</th>\n",
       "      <th>score</th>\n",
       "      <th>view_count</th>\n",
       "      <th>comment_count</th>\n",
       "      <th>favorite_count</th>\n",
       "    </tr>\n",
       "  </thead>\n",
       "  <tbody>\n",
       "    <tr>\n",
       "      <td>0</td>\n",
       "      <td>35865779</td>\n",
       "      <td>NaN</td>\n",
       "      <td>0</td>\n",
       "      <td>15</td>\n",
       "      <td>1</td>\n",
       "      <td>NaN</td>\n",
       "    </tr>\n",
       "    <tr>\n",
       "      <td>1</td>\n",
       "      <td>35501106</td>\n",
       "      <td>NaN</td>\n",
       "      <td>0</td>\n",
       "      <td>16</td>\n",
       "      <td>0</td>\n",
       "      <td>0.0</td>\n",
       "    </tr>\n",
       "    <tr>\n",
       "      <td>2</td>\n",
       "      <td>37129340</td>\n",
       "      <td>1267466.0</td>\n",
       "      <td>0</td>\n",
       "      <td>15</td>\n",
       "      <td>6</td>\n",
       "      <td>NaN</td>\n",
       "    </tr>\n",
       "    <tr>\n",
       "      <td>3</td>\n",
       "      <td>29371904</td>\n",
       "      <td>2209530.0</td>\n",
       "      <td>0</td>\n",
       "      <td>17</td>\n",
       "      <td>2</td>\n",
       "      <td>NaN</td>\n",
       "    </tr>\n",
       "    <tr>\n",
       "      <td>4</td>\n",
       "      <td>36045693</td>\n",
       "      <td>NaN</td>\n",
       "      <td>1</td>\n",
       "      <td>17</td>\n",
       "      <td>0</td>\n",
       "      <td>NaN</td>\n",
       "    </tr>\n",
       "  </tbody>\n",
       "</table>\n",
       "</div>"
      ],
      "text/plain": [
       "    post_id    user_id  score  view_count  comment_count  favorite_count\n",
       "0  35865779        NaN      0          15              1             NaN\n",
       "1  35501106        NaN      0          16              0             0.0\n",
       "2  37129340  1267466.0      0          15              6             NaN\n",
       "3  29371904  2209530.0      0          17              2             NaN\n",
       "4  36045693        NaN      1          17              0             NaN"
      ]
     },
     "execution_count": 11,
     "metadata": {},
     "output_type": "execute_result"
    }
   ],
   "source": [
    "post_data = post_data.rename(columns={'id':'post_id',\n",
    "                                     'owner_user_id':'user_id'})\n",
    "post_data.head()"
   ]
  },
  {
   "cell_type": "markdown",
   "metadata": {},
   "source": [
    "#### 8. Define new dataframes for users and posts with the following selected columns:\n",
    "    **users columns**: user_id, reputation,views,up_votes,down_votes\n",
    "    **posts columns**: post_id, score,user_id,view_count,comment_count"
   ]
  },
  {
   "cell_type": "code",
   "execution_count": 12,
   "metadata": {
    "ExecuteTime": {
     "end_time": "2020-02-02T08:18:46.249361Z",
     "start_time": "2020-02-02T08:18:46.233857Z"
    }
   },
   "outputs": [],
   "source": [
    "column_order_users = ['user_id','reputation','views','up_votes',\n",
    "                'down_votes']\n",
    "\n",
    "column_order_posts = ['post_id','score', 'user_id', 'view_count',\n",
    "                     'comment_count']"
   ]
  },
  {
   "cell_type": "code",
   "execution_count": 13,
   "metadata": {
    "ExecuteTime": {
     "end_time": "2020-02-02T08:18:46.368780Z",
     "start_time": "2020-02-02T08:18:46.345597Z"
    }
   },
   "outputs": [],
   "source": [
    "user_data = user_data[column_order_users]\n",
    "post_data = post_data[column_order_posts]"
   ]
  },
  {
   "cell_type": "code",
   "execution_count": 14,
   "metadata": {
    "ExecuteTime": {
     "end_time": "2020-02-02T08:18:46.450206Z",
     "start_time": "2020-02-02T08:18:46.437766Z"
    }
   },
   "outputs": [
    {
     "data": {
      "text/html": [
       "<div>\n",
       "<style scoped>\n",
       "    .dataframe tbody tr th:only-of-type {\n",
       "        vertical-align: middle;\n",
       "    }\n",
       "\n",
       "    .dataframe tbody tr th {\n",
       "        vertical-align: top;\n",
       "    }\n",
       "\n",
       "    .dataframe thead th {\n",
       "        text-align: right;\n",
       "    }\n",
       "</style>\n",
       "<table border=\"1\" class=\"dataframe\">\n",
       "  <thead>\n",
       "    <tr style=\"text-align: right;\">\n",
       "      <th></th>\n",
       "      <th>user_id</th>\n",
       "      <th>reputation</th>\n",
       "      <th>views</th>\n",
       "      <th>up_votes</th>\n",
       "      <th>down_votes</th>\n",
       "    </tr>\n",
       "  </thead>\n",
       "  <tbody>\n",
       "    <tr>\n",
       "      <td>0</td>\n",
       "      <td>1074</td>\n",
       "      <td>3107</td>\n",
       "      <td>266</td>\n",
       "      <td>158</td>\n",
       "      <td>21</td>\n",
       "    </tr>\n",
       "    <tr>\n",
       "      <td>1</td>\n",
       "      <td>1077</td>\n",
       "      <td>1075</td>\n",
       "      <td>69</td>\n",
       "      <td>148</td>\n",
       "      <td>4</td>\n",
       "    </tr>\n",
       "    <tr>\n",
       "      <td>2</td>\n",
       "      <td>4397</td>\n",
       "      <td>6057</td>\n",
       "      <td>593</td>\n",
       "      <td>511</td>\n",
       "      <td>12</td>\n",
       "    </tr>\n",
       "    <tr>\n",
       "      <td>3</td>\n",
       "      <td>5337</td>\n",
       "      <td>602</td>\n",
       "      <td>127</td>\n",
       "      <td>1</td>\n",
       "      <td>0</td>\n",
       "    </tr>\n",
       "    <tr>\n",
       "      <td>4</td>\n",
       "      <td>6910</td>\n",
       "      <td>21315</td>\n",
       "      <td>831</td>\n",
       "      <td>897</td>\n",
       "      <td>8</td>\n",
       "    </tr>\n",
       "  </tbody>\n",
       "</table>\n",
       "</div>"
      ],
      "text/plain": [
       "   user_id  reputation  views  up_votes  down_votes\n",
       "0     1074        3107    266       158          21\n",
       "1     1077        1075     69       148           4\n",
       "2     4397        6057    593       511          12\n",
       "3     5337         602    127         1           0\n",
       "4     6910       21315    831       897           8"
      ]
     },
     "execution_count": 14,
     "metadata": {},
     "output_type": "execute_result"
    }
   ],
   "source": [
    "user_data.head()"
   ]
  },
  {
   "cell_type": "code",
   "execution_count": 15,
   "metadata": {
    "ExecuteTime": {
     "end_time": "2020-02-02T08:18:46.533833Z",
     "start_time": "2020-02-02T08:18:46.522364Z"
    }
   },
   "outputs": [
    {
     "data": {
      "text/plain": [
       "(66832, 5)"
      ]
     },
     "execution_count": 15,
     "metadata": {},
     "output_type": "execute_result"
    }
   ],
   "source": [
    "user_data.shape"
   ]
  },
  {
   "cell_type": "code",
   "execution_count": 16,
   "metadata": {
    "ExecuteTime": {
     "end_time": "2020-02-02T08:18:46.636871Z",
     "start_time": "2020-02-02T08:18:46.614663Z"
    }
   },
   "outputs": [
    {
     "data": {
      "text/html": [
       "<div>\n",
       "<style scoped>\n",
       "    .dataframe tbody tr th:only-of-type {\n",
       "        vertical-align: middle;\n",
       "    }\n",
       "\n",
       "    .dataframe tbody tr th {\n",
       "        vertical-align: top;\n",
       "    }\n",
       "\n",
       "    .dataframe thead th {\n",
       "        text-align: right;\n",
       "    }\n",
       "</style>\n",
       "<table border=\"1\" class=\"dataframe\">\n",
       "  <thead>\n",
       "    <tr style=\"text-align: right;\">\n",
       "      <th></th>\n",
       "      <th>post_id</th>\n",
       "      <th>score</th>\n",
       "      <th>user_id</th>\n",
       "      <th>view_count</th>\n",
       "      <th>comment_count</th>\n",
       "    </tr>\n",
       "  </thead>\n",
       "  <tbody>\n",
       "    <tr>\n",
       "      <td>0</td>\n",
       "      <td>35865779</td>\n",
       "      <td>0</td>\n",
       "      <td>NaN</td>\n",
       "      <td>15</td>\n",
       "      <td>1</td>\n",
       "    </tr>\n",
       "    <tr>\n",
       "      <td>1</td>\n",
       "      <td>35501106</td>\n",
       "      <td>0</td>\n",
       "      <td>NaN</td>\n",
       "      <td>16</td>\n",
       "      <td>0</td>\n",
       "    </tr>\n",
       "    <tr>\n",
       "      <td>2</td>\n",
       "      <td>37129340</td>\n",
       "      <td>0</td>\n",
       "      <td>1267466.0</td>\n",
       "      <td>15</td>\n",
       "      <td>6</td>\n",
       "    </tr>\n",
       "    <tr>\n",
       "      <td>3</td>\n",
       "      <td>29371904</td>\n",
       "      <td>0</td>\n",
       "      <td>2209530.0</td>\n",
       "      <td>17</td>\n",
       "      <td>2</td>\n",
       "    </tr>\n",
       "    <tr>\n",
       "      <td>4</td>\n",
       "      <td>36045693</td>\n",
       "      <td>1</td>\n",
       "      <td>NaN</td>\n",
       "      <td>17</td>\n",
       "      <td>0</td>\n",
       "    </tr>\n",
       "  </tbody>\n",
       "</table>\n",
       "</div>"
      ],
      "text/plain": [
       "    post_id  score    user_id  view_count  comment_count\n",
       "0  35865779      0        NaN          15              1\n",
       "1  35501106      0        NaN          16              0\n",
       "2  37129340      0  1267466.0          15              6\n",
       "3  29371904      0  2209530.0          17              2\n",
       "4  36045693      1        NaN          17              0"
      ]
     },
     "execution_count": 16,
     "metadata": {},
     "output_type": "execute_result"
    }
   ],
   "source": [
    "post_data.head()"
   ]
  },
  {
   "cell_type": "code",
   "execution_count": 17,
   "metadata": {
    "ExecuteTime": {
     "end_time": "2020-02-02T08:18:46.727923Z",
     "start_time": "2020-02-02T08:18:46.715950Z"
    }
   },
   "outputs": [
    {
     "data": {
      "text/plain": [
       "(284796, 5)"
      ]
     },
     "execution_count": 17,
     "metadata": {},
     "output_type": "execute_result"
    }
   ],
   "source": [
    "post_data.shape"
   ]
  },
  {
   "cell_type": "markdown",
   "metadata": {},
   "source": [
    "#### 8. Merge both dataframes, users and posts. \n",
    "You will need to make a [merge](https://pandas.pydata.org/pandas-docs/stable/generated/pandas.DataFrame.merge.html) of posts and users dataframes."
   ]
  },
  {
   "cell_type": "code",
   "execution_count": 18,
   "metadata": {
    "ExecuteTime": {
     "end_time": "2020-02-02T08:18:47.034259Z",
     "start_time": "2020-02-02T08:18:46.805059Z"
    }
   },
   "outputs": [
    {
     "data": {
      "text/html": [
       "<div>\n",
       "<style scoped>\n",
       "    .dataframe tbody tr th:only-of-type {\n",
       "        vertical-align: middle;\n",
       "    }\n",
       "\n",
       "    .dataframe tbody tr th {\n",
       "        vertical-align: top;\n",
       "    }\n",
       "\n",
       "    .dataframe thead th {\n",
       "        text-align: right;\n",
       "    }\n",
       "</style>\n",
       "<table border=\"1\" class=\"dataframe\">\n",
       "  <thead>\n",
       "    <tr style=\"text-align: right;\">\n",
       "      <th></th>\n",
       "      <th>user_id</th>\n",
       "      <th>reputation</th>\n",
       "      <th>views</th>\n",
       "      <th>up_votes</th>\n",
       "      <th>down_votes</th>\n",
       "      <th>post_id</th>\n",
       "      <th>score</th>\n",
       "      <th>view_count</th>\n",
       "      <th>comment_count</th>\n",
       "    </tr>\n",
       "  </thead>\n",
       "  <tbody>\n",
       "    <tr>\n",
       "      <td>0</td>\n",
       "      <td>33682</td>\n",
       "      <td>3218</td>\n",
       "      <td>448</td>\n",
       "      <td>124</td>\n",
       "      <td>3</td>\n",
       "      <td>31383344</td>\n",
       "      <td>0</td>\n",
       "      <td>11</td>\n",
       "      <td>0</td>\n",
       "    </tr>\n",
       "    <tr>\n",
       "      <td>1</td>\n",
       "      <td>148381</td>\n",
       "      <td>9331</td>\n",
       "      <td>800</td>\n",
       "      <td>509</td>\n",
       "      <td>158</td>\n",
       "      <td>34420509</td>\n",
       "      <td>0</td>\n",
       "      <td>19</td>\n",
       "      <td>0</td>\n",
       "    </tr>\n",
       "    <tr>\n",
       "      <td>2</td>\n",
       "      <td>385390</td>\n",
       "      <td>717</td>\n",
       "      <td>91</td>\n",
       "      <td>15</td>\n",
       "      <td>2</td>\n",
       "      <td>37756554</td>\n",
       "      <td>0</td>\n",
       "      <td>9</td>\n",
       "      <td>0</td>\n",
       "    </tr>\n",
       "    <tr>\n",
       "      <td>3</td>\n",
       "      <td>1010198</td>\n",
       "      <td>412</td>\n",
       "      <td>141</td>\n",
       "      <td>19</td>\n",
       "      <td>0</td>\n",
       "      <td>33721783</td>\n",
       "      <td>0</td>\n",
       "      <td>15</td>\n",
       "      <td>0</td>\n",
       "    </tr>\n",
       "    <tr>\n",
       "      <td>4</td>\n",
       "      <td>1010198</td>\n",
       "      <td>412</td>\n",
       "      <td>141</td>\n",
       "      <td>19</td>\n",
       "      <td>0</td>\n",
       "      <td>36489861</td>\n",
       "      <td>0</td>\n",
       "      <td>16</td>\n",
       "      <td>0</td>\n",
       "    </tr>\n",
       "    <tr>\n",
       "      <td>5</td>\n",
       "      <td>1566860</td>\n",
       "      <td>345</td>\n",
       "      <td>36</td>\n",
       "      <td>45</td>\n",
       "      <td>3</td>\n",
       "      <td>33336278</td>\n",
       "      <td>1</td>\n",
       "      <td>19</td>\n",
       "      <td>0</td>\n",
       "    </tr>\n",
       "    <tr>\n",
       "      <td>6</td>\n",
       "      <td>1848146</td>\n",
       "      <td>1578</td>\n",
       "      <td>54</td>\n",
       "      <td>18</td>\n",
       "      <td>1</td>\n",
       "      <td>37183419</td>\n",
       "      <td>0</td>\n",
       "      <td>19</td>\n",
       "      <td>2</td>\n",
       "    </tr>\n",
       "    <tr>\n",
       "      <td>7</td>\n",
       "      <td>1848146</td>\n",
       "      <td>1578</td>\n",
       "      <td>54</td>\n",
       "      <td>18</td>\n",
       "      <td>1</td>\n",
       "      <td>36011395</td>\n",
       "      <td>0</td>\n",
       "      <td>17</td>\n",
       "      <td>0</td>\n",
       "    </tr>\n",
       "    <tr>\n",
       "      <td>8</td>\n",
       "      <td>1848146</td>\n",
       "      <td>1578</td>\n",
       "      <td>54</td>\n",
       "      <td>18</td>\n",
       "      <td>1</td>\n",
       "      <td>36476511</td>\n",
       "      <td>0</td>\n",
       "      <td>10</td>\n",
       "      <td>0</td>\n",
       "    </tr>\n",
       "    <tr>\n",
       "      <td>9</td>\n",
       "      <td>2135406</td>\n",
       "      <td>415</td>\n",
       "      <td>33</td>\n",
       "      <td>80</td>\n",
       "      <td>2</td>\n",
       "      <td>37750899</td>\n",
       "      <td>0</td>\n",
       "      <td>15</td>\n",
       "      <td>0</td>\n",
       "    </tr>\n",
       "  </tbody>\n",
       "</table>\n",
       "</div>"
      ],
      "text/plain": [
       "   user_id  reputation  views  up_votes  down_votes   post_id  score  \\\n",
       "0    33682        3218    448       124           3  31383344      0   \n",
       "1   148381        9331    800       509         158  34420509      0   \n",
       "2   385390         717     91        15           2  37756554      0   \n",
       "3  1010198         412    141        19           0  33721783      0   \n",
       "4  1010198         412    141        19           0  36489861      0   \n",
       "5  1566860         345     36        45           3  33336278      1   \n",
       "6  1848146        1578     54        18           1  37183419      0   \n",
       "7  1848146        1578     54        18           1  36011395      0   \n",
       "8  1848146        1578     54        18           1  36476511      0   \n",
       "9  2135406         415     33        80           2  37750899      0   \n",
       "\n",
       "   view_count  comment_count  \n",
       "0          11              0  \n",
       "1          19              0  \n",
       "2           9              0  \n",
       "3          15              0  \n",
       "4          16              0  \n",
       "5          19              0  \n",
       "6          19              2  \n",
       "7          17              0  \n",
       "8          10              0  \n",
       "9          15              0  "
      ]
     },
     "execution_count": 18,
     "metadata": {},
     "output_type": "execute_result"
    }
   ],
   "source": [
    "merged_DF = pd.merge(user_data, post_data, on = \"user_id\")\n",
    "merged_DF.head(10)"
   ]
  },
  {
   "cell_type": "markdown",
   "metadata": {},
   "source": [
    "#### 9. How many missing values do you have in your merged dataframe? "
   ]
  },
  {
   "cell_type": "code",
   "execution_count": 19,
   "metadata": {
    "ExecuteTime": {
     "end_time": "2020-02-02T08:18:47.129157Z",
     "start_time": "2020-02-02T08:18:47.117488Z"
    }
   },
   "outputs": [
    {
     "data": {
      "text/plain": [
       "(4070, 9)"
      ]
     },
     "execution_count": 19,
     "metadata": {},
     "output_type": "execute_result"
    }
   ],
   "source": [
    "merged_DF.shape"
   ]
  },
  {
   "cell_type": "code",
   "execution_count": 20,
   "metadata": {
    "ExecuteTime": {
     "end_time": "2020-02-02T08:18:47.237630Z",
     "start_time": "2020-02-02T08:18:47.226107Z"
    }
   },
   "outputs": [],
   "source": [
    "null_merged = merged_DF.isnull().sum()"
   ]
  },
  {
   "cell_type": "code",
   "execution_count": 21,
   "metadata": {
    "ExecuteTime": {
     "end_time": "2020-02-02T08:18:47.335350Z",
     "start_time": "2020-02-02T08:18:47.325501Z"
    }
   },
   "outputs": [
    {
     "data": {
      "text/plain": [
       "Series([], dtype: int64)"
      ]
     },
     "execution_count": 21,
     "metadata": {},
     "output_type": "execute_result"
    }
   ],
   "source": [
    "null_merged [null_merged > 0]"
   ]
  },
  {
   "cell_type": "markdown",
   "metadata": {},
   "source": [
    "#### Bonus: Identify extreme values in your merged dataframe, create a dataframe called outliers with the same columns as our data set and calculate the bounds. The values of the outliers dataframe will be the values of the merged_df that fall outside that bounds. You will need to save your outliers dataframe to a csv file on your-code folder. Hint: post_id cannot have outliers!"
   ]
  },
  {
   "cell_type": "code",
   "execution_count": 57,
   "metadata": {
    "ExecuteTime": {
     "end_time": "2020-02-02T08:27:17.522791Z",
     "start_time": "2020-02-02T08:27:17.457312Z"
    }
   },
   "outputs": [
    {
     "data": {
      "text/html": [
       "<div>\n",
       "<style scoped>\n",
       "    .dataframe tbody tr th:only-of-type {\n",
       "        vertical-align: middle;\n",
       "    }\n",
       "\n",
       "    .dataframe tbody tr th {\n",
       "        vertical-align: top;\n",
       "    }\n",
       "\n",
       "    .dataframe thead th {\n",
       "        text-align: right;\n",
       "    }\n",
       "</style>\n",
       "<table border=\"1\" class=\"dataframe\">\n",
       "  <thead>\n",
       "    <tr style=\"text-align: right;\">\n",
       "      <th></th>\n",
       "      <th>count</th>\n",
       "      <th>mean</th>\n",
       "      <th>std</th>\n",
       "      <th>min</th>\n",
       "      <th>15%</th>\n",
       "      <th>50%</th>\n",
       "      <th>75%</th>\n",
       "      <th>99%</th>\n",
       "      <th>max</th>\n",
       "    </tr>\n",
       "  </thead>\n",
       "  <tbody>\n",
       "    <tr>\n",
       "      <td>user_id</td>\n",
       "      <td>4070.0</td>\n",
       "      <td>2.287943e+06</td>\n",
       "      <td>1.905006e+06</td>\n",
       "      <td>199.0</td>\n",
       "      <td>343204.00</td>\n",
       "      <td>1719075.0</td>\n",
       "      <td>3632206.0</td>\n",
       "      <td>6344000.79</td>\n",
       "      <td>6452203.0</td>\n",
       "    </tr>\n",
       "    <tr>\n",
       "      <td>reputation</td>\n",
       "      <td>4070.0</td>\n",
       "      <td>5.412067e+03</td>\n",
       "      <td>1.663058e+04</td>\n",
       "      <td>1.0</td>\n",
       "      <td>89.00</td>\n",
       "      <td>1130.5</td>\n",
       "      <td>4307.5</td>\n",
       "      <td>69219.25</td>\n",
       "      <td>279695.0</td>\n",
       "    </tr>\n",
       "    <tr>\n",
       "      <td>views</td>\n",
       "      <td>4070.0</td>\n",
       "      <td>4.902710e+02</td>\n",
       "      <td>1.228242e+03</td>\n",
       "      <td>0.0</td>\n",
       "      <td>18.00</td>\n",
       "      <td>137.0</td>\n",
       "      <td>418.5</td>\n",
       "      <td>6176.00</td>\n",
       "      <td>27257.0</td>\n",
       "    </tr>\n",
       "    <tr>\n",
       "      <td>up_votes</td>\n",
       "      <td>4070.0</td>\n",
       "      <td>3.685442e+02</td>\n",
       "      <td>7.549705e+02</td>\n",
       "      <td>0.0</td>\n",
       "      <td>4.00</td>\n",
       "      <td>89.0</td>\n",
       "      <td>352.0</td>\n",
       "      <td>3682.31</td>\n",
       "      <td>9057.0</td>\n",
       "    </tr>\n",
       "    <tr>\n",
       "      <td>down_votes</td>\n",
       "      <td>4070.0</td>\n",
       "      <td>3.605627e+01</td>\n",
       "      <td>2.042824e+02</td>\n",
       "      <td>0.0</td>\n",
       "      <td>0.00</td>\n",
       "      <td>3.0</td>\n",
       "      <td>16.0</td>\n",
       "      <td>745.20</td>\n",
       "      <td>8468.0</td>\n",
       "    </tr>\n",
       "    <tr>\n",
       "      <td>post_id</td>\n",
       "      <td>4070.0</td>\n",
       "      <td>3.428236e+07</td>\n",
       "      <td>4.262270e+06</td>\n",
       "      <td>1906903.0</td>\n",
       "      <td>31287553.95</td>\n",
       "      <td>35774363.0</td>\n",
       "      <td>37114180.0</td>\n",
       "      <td>37756559.27</td>\n",
       "      <td>37770535.0</td>\n",
       "    </tr>\n",
       "    <tr>\n",
       "      <td>score</td>\n",
       "      <td>4070.0</td>\n",
       "      <td>1.083538e-01</td>\n",
       "      <td>5.428813e-01</td>\n",
       "      <td>-7.0</td>\n",
       "      <td>0.00</td>\n",
       "      <td>0.0</td>\n",
       "      <td>0.0</td>\n",
       "      <td>2.00</td>\n",
       "      <td>4.0</td>\n",
       "    </tr>\n",
       "    <tr>\n",
       "      <td>view_count</td>\n",
       "      <td>4070.0</td>\n",
       "      <td>1.467224e+01</td>\n",
       "      <td>3.583939e+00</td>\n",
       "      <td>2.0</td>\n",
       "      <td>11.00</td>\n",
       "      <td>15.0</td>\n",
       "      <td>18.0</td>\n",
       "      <td>19.00</td>\n",
       "      <td>19.0</td>\n",
       "    </tr>\n",
       "    <tr>\n",
       "      <td>comment_count</td>\n",
       "      <td>4070.0</td>\n",
       "      <td>8.533170e-01</td>\n",
       "      <td>1.549656e+00</td>\n",
       "      <td>0.0</td>\n",
       "      <td>0.00</td>\n",
       "      <td>0.0</td>\n",
       "      <td>1.0</td>\n",
       "      <td>7.00</td>\n",
       "      <td>15.0</td>\n",
       "    </tr>\n",
       "  </tbody>\n",
       "</table>\n",
       "</div>"
      ],
      "text/plain": [
       "                count          mean           std        min          15%  \\\n",
       "user_id        4070.0  2.287943e+06  1.905006e+06      199.0    343204.00   \n",
       "reputation     4070.0  5.412067e+03  1.663058e+04        1.0        89.00   \n",
       "views          4070.0  4.902710e+02  1.228242e+03        0.0        18.00   \n",
       "up_votes       4070.0  3.685442e+02  7.549705e+02        0.0         4.00   \n",
       "down_votes     4070.0  3.605627e+01  2.042824e+02        0.0         0.00   \n",
       "post_id        4070.0  3.428236e+07  4.262270e+06  1906903.0  31287553.95   \n",
       "score          4070.0  1.083538e-01  5.428813e-01       -7.0         0.00   \n",
       "view_count     4070.0  1.467224e+01  3.583939e+00        2.0        11.00   \n",
       "comment_count  4070.0  8.533170e-01  1.549656e+00        0.0         0.00   \n",
       "\n",
       "                      50%         75%          99%         max  \n",
       "user_id         1719075.0   3632206.0   6344000.79   6452203.0  \n",
       "reputation         1130.5      4307.5     69219.25    279695.0  \n",
       "views               137.0       418.5      6176.00     27257.0  \n",
       "up_votes             89.0       352.0      3682.31      9057.0  \n",
       "down_votes            3.0        16.0       745.20      8468.0  \n",
       "post_id        35774363.0  37114180.0  37756559.27  37770535.0  \n",
       "score                 0.0         0.0         2.00         4.0  \n",
       "view_count           15.0        18.0        19.00        19.0  \n",
       "comment_count         0.0         1.0         7.00        15.0  "
      ]
     },
     "execution_count": 57,
     "metadata": {},
     "output_type": "execute_result"
    }
   ],
   "source": [
    "perc= [.15, .50, .75, .99] \n",
    "stats = merged_DF.describe(percentiles = perc).transpose()\n",
    "stats"
   ]
  },
  {
   "cell_type": "code",
   "execution_count": 58,
   "metadata": {
    "ExecuteTime": {
     "end_time": "2020-02-02T08:27:18.325232Z",
     "start_time": "2020-02-02T08:27:18.318653Z"
    }
   },
   "outputs": [],
   "source": [
    "stats['IQR'] = stats['99%'] - stats['15%']"
   ]
  },
  {
   "cell_type": "code",
   "execution_count": 59,
   "metadata": {
    "ExecuteTime": {
     "end_time": "2020-02-02T08:27:23.235749Z",
     "start_time": "2020-02-02T08:27:23.128399Z"
    }
   },
   "outputs": [],
   "source": [
    "columns_outliers = [\"reputation\", \"views\", \"up_votes\",\"down_votes\", \"score\",\"view_count\",\"comment_count\"]\n",
    "outliers = pd.DataFrame(columns=columns_outliers)\n",
    "for col in stats.index:\n",
    "    iqr = stats.at[col,'IQR']\n",
    "    cutoff = iqr * 1.5\n",
    "    lower = stats.at[col,'15%'] - cutoff\n",
    "    upper = stats.at[col,'99%'] + cutoff\n",
    "    results = merged_DF[(merged_DF[col] < lower) |\n",
    "                   (merged_DF[col] > upper)].copy()\n",
    "    results['Outlier'] = col\n",
    "    outliers = outliers.append(results)"
   ]
  },
  {
   "cell_type": "code",
   "execution_count": 60,
   "metadata": {
    "ExecuteTime": {
     "end_time": "2020-02-02T08:27:24.122883Z",
     "start_time": "2020-02-02T08:27:24.077428Z"
    }
   },
   "outputs": [
    {
     "data": {
      "text/html": [
       "<div>\n",
       "<style scoped>\n",
       "    .dataframe tbody tr th:only-of-type {\n",
       "        vertical-align: middle;\n",
       "    }\n",
       "\n",
       "    .dataframe tbody tr th {\n",
       "        vertical-align: top;\n",
       "    }\n",
       "\n",
       "    .dataframe thead th {\n",
       "        text-align: right;\n",
       "    }\n",
       "</style>\n",
       "<table border=\"1\" class=\"dataframe\">\n",
       "  <thead>\n",
       "    <tr style=\"text-align: right;\">\n",
       "      <th></th>\n",
       "      <th>Outlier</th>\n",
       "      <th>comment_count</th>\n",
       "      <th>down_votes</th>\n",
       "      <th>post_id</th>\n",
       "      <th>reputation</th>\n",
       "      <th>score</th>\n",
       "      <th>up_votes</th>\n",
       "      <th>user_id</th>\n",
       "      <th>view_count</th>\n",
       "      <th>views</th>\n",
       "    </tr>\n",
       "  </thead>\n",
       "  <tbody>\n",
       "    <tr>\n",
       "      <td>1217</td>\n",
       "      <td>reputation</td>\n",
       "      <td>2</td>\n",
       "      <td>461</td>\n",
       "      <td>37642104.0</td>\n",
       "      <td>187688</td>\n",
       "      <td>4</td>\n",
       "      <td>3899</td>\n",
       "      <td>324584.0</td>\n",
       "      <td>18</td>\n",
       "      <td>27257</td>\n",
       "    </tr>\n",
       "    <tr>\n",
       "      <td>2059</td>\n",
       "      <td>reputation</td>\n",
       "      <td>0</td>\n",
       "      <td>97</td>\n",
       "      <td>33842576.0</td>\n",
       "      <td>235072</td>\n",
       "      <td>0</td>\n",
       "      <td>927</td>\n",
       "      <td>6068.0</td>\n",
       "      <td>6</td>\n",
       "      <td>10965</td>\n",
       "    </tr>\n",
       "    <tr>\n",
       "      <td>2060</td>\n",
       "      <td>reputation</td>\n",
       "      <td>0</td>\n",
       "      <td>97</td>\n",
       "      <td>36953621.0</td>\n",
       "      <td>235072</td>\n",
       "      <td>0</td>\n",
       "      <td>927</td>\n",
       "      <td>6068.0</td>\n",
       "      <td>11</td>\n",
       "      <td>10965</td>\n",
       "    </tr>\n",
       "    <tr>\n",
       "      <td>2061</td>\n",
       "      <td>reputation</td>\n",
       "      <td>0</td>\n",
       "      <td>97</td>\n",
       "      <td>37093383.0</td>\n",
       "      <td>235072</td>\n",
       "      <td>1</td>\n",
       "      <td>927</td>\n",
       "      <td>6068.0</td>\n",
       "      <td>11</td>\n",
       "      <td>10965</td>\n",
       "    </tr>\n",
       "    <tr>\n",
       "      <td>2062</td>\n",
       "      <td>reputation</td>\n",
       "      <td>0</td>\n",
       "      <td>97</td>\n",
       "      <td>37257134.0</td>\n",
       "      <td>235072</td>\n",
       "      <td>1</td>\n",
       "      <td>927</td>\n",
       "      <td>6068.0</td>\n",
       "      <td>18</td>\n",
       "      <td>10965</td>\n",
       "    </tr>\n",
       "    <tr>\n",
       "      <td>...</td>\n",
       "      <td>...</td>\n",
       "      <td>...</td>\n",
       "      <td>...</td>\n",
       "      <td>...</td>\n",
       "      <td>...</td>\n",
       "      <td>...</td>\n",
       "      <td>...</td>\n",
       "      <td>...</td>\n",
       "      <td>...</td>\n",
       "      <td>...</td>\n",
       "    </tr>\n",
       "    <tr>\n",
       "      <td>984</td>\n",
       "      <td>score</td>\n",
       "      <td>2</td>\n",
       "      <td>0</td>\n",
       "      <td>37263029.0</td>\n",
       "      <td>1</td>\n",
       "      <td>-4</td>\n",
       "      <td>0</td>\n",
       "      <td>6342677.0</td>\n",
       "      <td>12</td>\n",
       "      <td>3</td>\n",
       "    </tr>\n",
       "    <tr>\n",
       "      <td>991</td>\n",
       "      <td>score</td>\n",
       "      <td>4</td>\n",
       "      <td>0</td>\n",
       "      <td>29716312.0</td>\n",
       "      <td>3</td>\n",
       "      <td>-4</td>\n",
       "      <td>0</td>\n",
       "      <td>4804161.0</td>\n",
       "      <td>19</td>\n",
       "      <td>0</td>\n",
       "    </tr>\n",
       "    <tr>\n",
       "      <td>1481</td>\n",
       "      <td>score</td>\n",
       "      <td>1</td>\n",
       "      <td>0</td>\n",
       "      <td>37505897.0</td>\n",
       "      <td>29</td>\n",
       "      <td>-4</td>\n",
       "      <td>0</td>\n",
       "      <td>5089944.0</td>\n",
       "      <td>15</td>\n",
       "      <td>19</td>\n",
       "    </tr>\n",
       "    <tr>\n",
       "      <td>2952</td>\n",
       "      <td>score</td>\n",
       "      <td>4</td>\n",
       "      <td>0</td>\n",
       "      <td>37667739.0</td>\n",
       "      <td>43</td>\n",
       "      <td>-7</td>\n",
       "      <td>3</td>\n",
       "      <td>6118448.0</td>\n",
       "      <td>14</td>\n",
       "      <td>5</td>\n",
       "    </tr>\n",
       "    <tr>\n",
       "      <td>3744</td>\n",
       "      <td>score</td>\n",
       "      <td>0</td>\n",
       "      <td>2</td>\n",
       "      <td>33757583.0</td>\n",
       "      <td>3139</td>\n",
       "      <td>-4</td>\n",
       "      <td>65</td>\n",
       "      <td>1752935.0</td>\n",
       "      <td>19</td>\n",
       "      <td>322</td>\n",
       "    </tr>\n",
       "  </tbody>\n",
       "</table>\n",
       "<p>108 rows × 10 columns</p>\n",
       "</div>"
      ],
      "text/plain": [
       "         Outlier comment_count down_votes     post_id reputation score  \\\n",
       "1217  reputation             2        461  37642104.0     187688     4   \n",
       "2059  reputation             0         97  33842576.0     235072     0   \n",
       "2060  reputation             0         97  36953621.0     235072     0   \n",
       "2061  reputation             0         97  37093383.0     235072     1   \n",
       "2062  reputation             0         97  37257134.0     235072     1   \n",
       "...          ...           ...        ...         ...        ...   ...   \n",
       "984        score             2          0  37263029.0          1    -4   \n",
       "991        score             4          0  29716312.0          3    -4   \n",
       "1481       score             1          0  37505897.0         29    -4   \n",
       "2952       score             4          0  37667739.0         43    -7   \n",
       "3744       score             0          2  33757583.0       3139    -4   \n",
       "\n",
       "     up_votes    user_id view_count  views  \n",
       "1217     3899   324584.0         18  27257  \n",
       "2059      927     6068.0          6  10965  \n",
       "2060      927     6068.0         11  10965  \n",
       "2061      927     6068.0         11  10965  \n",
       "2062      927     6068.0         18  10965  \n",
       "...       ...        ...        ...    ...  \n",
       "984         0  6342677.0         12      3  \n",
       "991         0  4804161.0         19      0  \n",
       "1481        0  5089944.0         15     19  \n",
       "2952        3  6118448.0         14      5  \n",
       "3744       65  1752935.0         19    322  \n",
       "\n",
       "[108 rows x 10 columns]"
      ]
     },
     "execution_count": 60,
     "metadata": {},
     "output_type": "execute_result"
    }
   ],
   "source": [
    "outliers"
   ]
  },
  {
   "cell_type": "code",
   "execution_count": 26,
   "metadata": {
    "ExecuteTime": {
     "end_time": "2020-02-02T08:18:48.376093Z",
     "start_time": "2020-02-02T08:18:48.327740Z"
    }
   },
   "outputs": [],
   "source": [
    "outliers.to_csv(\"outliers.csv\", index = False)"
   ]
  }
 ],
 "metadata": {
  "kernelspec": {
   "display_name": "Python 3",
   "language": "python",
   "name": "python3"
  },
  "language_info": {
   "codemirror_mode": {
    "name": "ipython",
    "version": 3
   },
   "file_extension": ".py",
   "mimetype": "text/x-python",
   "name": "python",
   "nbconvert_exporter": "python",
   "pygments_lexer": "ipython3",
   "version": "3.7.4"
  },
  "toc": {
   "base_numbering": 1,
   "nav_menu": {},
   "number_sections": true,
   "sideBar": true,
   "skip_h1_title": false,
   "title_cell": "Table of Contents",
   "title_sidebar": "Contents",
   "toc_cell": false,
   "toc_position": {},
   "toc_section_display": true,
   "toc_window_display": false
  },
  "varInspector": {
   "cols": {
    "lenName": 16,
    "lenType": 16,
    "lenVar": 40
   },
   "kernels_config": {
    "python": {
     "delete_cmd_postfix": "",
     "delete_cmd_prefix": "del ",
     "library": "var_list.py",
     "varRefreshCmd": "print(var_dic_list())"
    },
    "r": {
     "delete_cmd_postfix": ") ",
     "delete_cmd_prefix": "rm(",
     "library": "var_list.r",
     "varRefreshCmd": "cat(var_dic_list()) "
    }
   },
   "types_to_exclude": [
    "module",
    "function",
    "builtin_function_or_method",
    "instance",
    "_Feature"
   ],
   "window_display": false
  }
 },
 "nbformat": 4,
 "nbformat_minor": 2
}
